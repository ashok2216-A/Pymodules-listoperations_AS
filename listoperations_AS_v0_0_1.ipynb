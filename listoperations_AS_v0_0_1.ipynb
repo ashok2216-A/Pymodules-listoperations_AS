{
  "nbformat": 4,
  "nbformat_minor": 0,
  "metadata": {
    "colab": {
      "name": "listoperations_AS_v0.0.1",
      "provenance": [],
      "mount_file_id": "1d1H9YFc_vr6DxMrNIAL21lvzQGHM1v-b",
      "authorship_tag": "ABX9TyMPdVMuHTQAxDc9Y8UiFTHK",
      "include_colab_link": true
    },
    "kernelspec": {
      "name": "python3",
      "display_name": "Python 3"
    },
    "language_info": {
      "name": "python"
    }
  },
  "cells": [
    {
      "cell_type": "markdown",
      "metadata": {
        "id": "view-in-github",
        "colab_type": "text"
      },
      "source": [
        "<a href=\"https://colab.research.google.com/github/ashok2216-A/Pymodules-listoperations_AS_v0.0.1/blob/main/listoperations_AS_v0_0_1.ipynb\" target=\"_parent\"><img src=\"https://colab.research.google.com/assets/colab-badge.svg\" alt=\"Open In Colab\"/></a>"
      ]
    },
    {
      "cell_type": "code",
      "execution_count": null,
      "metadata": {
        "id": "1ZR7xRBw81SG"
      },
      "outputs": [],
      "source": [
        ""
      ]
    }
  ]
}